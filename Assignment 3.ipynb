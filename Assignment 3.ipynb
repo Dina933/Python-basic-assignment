{
 "cells": [
  {
   "cell_type": "code",
   "execution_count": null,
   "id": "ac08b816",
   "metadata": {},
   "outputs": [],
   "source": [
    "1. Why are functions advantageous to have in your programs?"
   ]
  },
  {
   "cell_type": "code",
   "execution_count": null,
   "id": "252f44db",
   "metadata": {},
   "outputs": [],
   "source": [
    "Ans: Functions are defined programs which can be called whenever required without rewriting it. "
   ]
  },
  {
   "cell_type": "code",
   "execution_count": null,
   "id": "b426fb5d",
   "metadata": {},
   "outputs": [],
   "source": []
  },
  {
   "cell_type": "code",
   "execution_count": null,
   "id": "952884a7",
   "metadata": {},
   "outputs": [],
   "source": [
    "2. When does the code in a function run: when it's specified or when it's called?"
   ]
  },
  {
   "cell_type": "code",
   "execution_count": null,
   "id": "769a6588",
   "metadata": {},
   "outputs": [],
   "source": [
    "Ans: Code of a function runs only when it is called. Function cannot run if not called during any time of program"
   ]
  },
  {
   "cell_type": "code",
   "execution_count": null,
   "id": "70434938",
   "metadata": {},
   "outputs": [],
   "source": []
  },
  {
   "cell_type": "code",
   "execution_count": null,
   "id": "ba5b9d9a",
   "metadata": {},
   "outputs": [],
   "source": [
    "3. What statement creates a function?"
   ]
  },
  {
   "cell_type": "code",
   "execution_count": null,
   "id": "30833026",
   "metadata": {},
   "outputs": [],
   "source": [
    "Ans: 'def' statement (definition) is used to create a function"
   ]
  },
  {
   "cell_type": "code",
   "execution_count": null,
   "id": "76a07237",
   "metadata": {},
   "outputs": [],
   "source": []
  },
  {
   "cell_type": "code",
   "execution_count": null,
   "id": "03098aea",
   "metadata": {},
   "outputs": [],
   "source": [
    "4. What is the difference between a function and a function call?"
   ]
  },
  {
   "cell_type": "code",
   "execution_count": null,
   "id": "c6529824",
   "metadata": {},
   "outputs": [],
   "source": [
    "Ans: \n",
    "function:      function is a split program written to achieve a small output of an whole program.\n",
    "function call: the function runs when it is called during the execution of whole program."
   ]
  },
  {
   "cell_type": "code",
   "execution_count": null,
   "id": "ee0f2327",
   "metadata": {},
   "outputs": [],
   "source": []
  },
  {
   "cell_type": "code",
   "execution_count": null,
   "id": "15ac9ca8",
   "metadata": {},
   "outputs": [],
   "source": [
    "5. How many global scopes are there in a Python program? How many local scopes?"
   ]
  },
  {
   "cell_type": "code",
   "execution_count": null,
   "id": "2272b879",
   "metadata": {},
   "outputs": [],
   "source": [
    "Ans: \n",
    "Global scope: There is only one global scope in Python program which is defined outside of functions in the beginning of program.\n",
    "Local Scope: There can be as many local scope as number of functions defined in program. "
   ]
  },
  {
   "cell_type": "code",
   "execution_count": null,
   "id": "5089b928",
   "metadata": {},
   "outputs": [],
   "source": []
  },
  {
   "cell_type": "code",
   "execution_count": null,
   "id": "050032fe",
   "metadata": {},
   "outputs": [],
   "source": [
    "6. What happens to variables in a local scope when the function call returns?"
   ]
  },
  {
   "cell_type": "code",
   "execution_count": null,
   "id": "3ad41881",
   "metadata": {},
   "outputs": [],
   "source": [
    "Ans: Once the function call returns, the local variables will be undefined until the function is called again."
   ]
  },
  {
   "cell_type": "code",
   "execution_count": null,
   "id": "e227ae20",
   "metadata": {},
   "outputs": [],
   "source": []
  },
  {
   "cell_type": "code",
   "execution_count": null,
   "id": "d52b0f96",
   "metadata": {},
   "outputs": [],
   "source": [
    "7. What is the concept of a return value? Is it possible to have a return value in an expression?"
   ]
  },
  {
   "cell_type": "code",
   "execution_count": null,
   "id": "aebbd84f",
   "metadata": {},
   "outputs": [],
   "source": [
    "Ans: return statement is used to end the function call and returns the result.\n",
    "Yes, return value can be defined in expression by mentioning return statement followed by the value or expression."
   ]
  },
  {
   "cell_type": "code",
   "execution_count": null,
   "id": "ee508330",
   "metadata": {},
   "outputs": [],
   "source": []
  },
  {
   "cell_type": "code",
   "execution_count": null,
   "id": "f2f5aef3",
   "metadata": {},
   "outputs": [],
   "source": [
    "8. If a function does not have a return statement, what is the return value of a call to that function?"
   ]
  },
  {
   "cell_type": "code",
   "execution_count": null,
   "id": "29375ed5",
   "metadata": {},
   "outputs": [],
   "source": [
    "Ans: If no return statement is written, it means the function is not complete as output is not defined or returned \n",
    "    for function. Hence syntax error occurs. "
   ]
  },
  {
   "cell_type": "code",
   "execution_count": null,
   "id": "ca0bd668",
   "metadata": {},
   "outputs": [],
   "source": []
  },
  {
   "cell_type": "code",
   "execution_count": null,
   "id": "c0f9c764",
   "metadata": {},
   "outputs": [],
   "source": [
    "9. How do you make a function variable refer to the global variable?"
   ]
  },
  {
   "cell_type": "code",
   "execution_count": null,
   "id": "7347c57d",
   "metadata": {},
   "outputs": [],
   "source": [
    "Ans: by using global keyword, one can refer the global variable as function variable."
   ]
  },
  {
   "cell_type": "code",
   "execution_count": null,
   "id": "4f6c0c62",
   "metadata": {},
   "outputs": [],
   "source": []
  },
  {
   "cell_type": "code",
   "execution_count": null,
   "id": "2dc47be6",
   "metadata": {},
   "outputs": [],
   "source": [
    "10. What is the data type of None?"
   ]
  },
  {
   "cell_type": "code",
   "execution_count": null,
   "id": "704fe29a",
   "metadata": {},
   "outputs": [],
   "source": [
    "Ans: data type of None is 'class Nonetype'"
   ]
  },
  {
   "cell_type": "code",
   "execution_count": null,
   "id": "9cd2a0c0",
   "metadata": {},
   "outputs": [],
   "source": []
  },
  {
   "cell_type": "code",
   "execution_count": null,
   "id": "6459c734",
   "metadata": {},
   "outputs": [],
   "source": [
    "11. What does the sentence import areallyourpetsnamederic do?"
   ]
  },
  {
   "cell_type": "code",
   "execution_count": 1,
   "id": "d117ec89",
   "metadata": {},
   "outputs": [
    {
     "ename": "ModuleNotFoundError",
     "evalue": "No module named 'areallyourpetsnamederic'",
     "output_type": "error",
     "traceback": [
      "\u001b[1;31m---------------------------------------------------------------------------\u001b[0m",
      "\u001b[1;31mModuleNotFoundError\u001b[0m                       Traceback (most recent call last)",
      "\u001b[1;32m~\\AppData\\Local\\Temp/ipykernel_8720/51184242.py\u001b[0m in \u001b[0;36m<module>\u001b[1;34m\u001b[0m\n\u001b[1;32m----> 1\u001b[1;33m \u001b[1;32mimport\u001b[0m \u001b[0mareallyourpetsnamederic\u001b[0m\u001b[1;33m\u001b[0m\u001b[1;33m\u001b[0m\u001b[0m\n\u001b[0m",
      "\u001b[1;31mModuleNotFoundError\u001b[0m: No module named 'areallyourpetsnamederic'"
     ]
    }
   ],
   "source": [
    "import areallyourpetsnamederic"
   ]
  },
  {
   "cell_type": "code",
   "execution_count": null,
   "id": "9bfd05f4",
   "metadata": {},
   "outputs": [],
   "source": [
    "Ans: a Module not found Error occurs for importing above module as the module is not created in python."
   ]
  },
  {
   "cell_type": "code",
   "execution_count": null,
   "id": "a7d34fb1",
   "metadata": {},
   "outputs": [],
   "source": []
  },
  {
   "cell_type": "code",
   "execution_count": null,
   "id": "c6653178",
   "metadata": {},
   "outputs": [],
   "source": [
    "12. If you had a bacon() feature in a spam module, what would you call it after importing spam?"
   ]
  },
  {
   "cell_type": "code",
   "execution_count": null,
   "id": "cd5a54ba",
   "metadata": {},
   "outputs": [],
   "source": [
    "Ans: calling it by object spam.bacon()."
   ]
  },
  {
   "cell_type": "code",
   "execution_count": null,
   "id": "1609638b",
   "metadata": {},
   "outputs": [],
   "source": []
  },
  {
   "cell_type": "code",
   "execution_count": null,
   "id": "f248bca5",
   "metadata": {},
   "outputs": [],
   "source": [
    "13. What can you do to save a programme from crashing if it encounters an error?"
   ]
  },
  {
   "cell_type": "code",
   "execution_count": null,
   "id": "d92fd00c",
   "metadata": {},
   "outputs": [],
   "source": [
    "Ans: By using Exception handling using try, except syntax. This exception handling works \n",
    "     typically on all errors except syntax error."
   ]
  },
  {
   "cell_type": "code",
   "execution_count": null,
   "id": "57c46a10",
   "metadata": {},
   "outputs": [],
   "source": []
  },
  {
   "cell_type": "code",
   "execution_count": null,
   "id": "d0272df7",
   "metadata": {},
   "outputs": [],
   "source": [
    "14. What is the purpose of the try clause? What is the purpose of the except clause?"
   ]
  },
  {
   "cell_type": "code",
   "execution_count": null,
   "id": "12590de0",
   "metadata": {},
   "outputs": [],
   "source": [
    "Ans: try clause: will execute the program or function until there is no error in the function.\n",
    "    except clause: If the try clause fails in executing the program due to any runtime error, the custom \n",
    "                   error message can be defined in except clause.\n",
    "        "
   ]
  }
 ],
 "metadata": {
  "kernelspec": {
   "display_name": "Python 3 (ipykernel)",
   "language": "python",
   "name": "python3"
  },
  "language_info": {
   "codemirror_mode": {
    "name": "ipython",
    "version": 3
   },
   "file_extension": ".py",
   "mimetype": "text/x-python",
   "name": "python",
   "nbconvert_exporter": "python",
   "pygments_lexer": "ipython3",
   "version": "3.9.7"
  }
 },
 "nbformat": 4,
 "nbformat_minor": 5
}
