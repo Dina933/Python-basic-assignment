{
 "cells": [
  {
   "cell_type": "code",
   "execution_count": null,
   "id": "a04f5938",
   "metadata": {},
   "outputs": [],
   "source": [
    "1. What are escape characters, and how do you use them?"
   ]
  },
  {
   "cell_type": "code",
   "execution_count": null,
   "id": "f912e9ec",
   "metadata": {},
   "outputs": [],
   "source": [
    "Ans: The escape characters are the special characters used in string for specific funtion using backslash \n",
    "     followed by the character letters like '\\n'"
   ]
  },
  {
   "cell_type": "code",
   "execution_count": null,
   "id": "faa58676",
   "metadata": {},
   "outputs": [],
   "source": []
  },
  {
   "cell_type": "code",
   "execution_count": null,
   "id": "465c1d0f",
   "metadata": {},
   "outputs": [],
   "source": [
    "2. What do the escape characters n and t stand for?"
   ]
  },
  {
   "cell_type": "code",
   "execution_count": null,
   "id": "ab7d1e77",
   "metadata": {},
   "outputs": [],
   "source": [
    "Ans: '\\n' stands for new line\n",
    "     '\\t' stands for tab function in horizontal"
   ]
  },
  {
   "cell_type": "code",
   "execution_count": null,
   "id": "5a506f5c",
   "metadata": {},
   "outputs": [],
   "source": []
  },
  {
   "cell_type": "code",
   "execution_count": null,
   "id": "85e5dd78",
   "metadata": {},
   "outputs": [],
   "source": [
    "3. What is the way to include backslash characters in a string?"
   ]
  },
  {
   "cell_type": "code",
   "execution_count": null,
   "id": "83676303",
   "metadata": {},
   "outputs": [],
   "source": [
    "Ans: By just including the backslash characters in between the sentence or string."
   ]
  },
  {
   "cell_type": "code",
   "execution_count": null,
   "id": "6348ba3d",
   "metadata": {},
   "outputs": [],
   "source": []
  },
  {
   "cell_type": "code",
   "execution_count": null,
   "id": "e459b90b",
   "metadata": {},
   "outputs": [],
   "source": [
    "4. The string \"Howl's Moving Castle\" is a correct value. Why isn't the single quote character in the word Howl's \n",
    "    not escaped a problem?"
   ]
  },
  {
   "cell_type": "code",
   "execution_count": null,
   "id": "07432560",
   "metadata": {},
   "outputs": [],
   "source": [
    "Ans : The single quote or double quote are part of string representation. The single quote in a double quote\n",
    "    can be part of string and is not an escape character."
   ]
  },
  {
   "cell_type": "code",
   "execution_count": null,
   "id": "902aa811",
   "metadata": {},
   "outputs": [],
   "source": []
  },
  {
   "cell_type": "code",
   "execution_count": null,
   "id": "15e5b455",
   "metadata": {},
   "outputs": [],
   "source": [
    "5. How do you write a string of newlines if you don't want to use the n character?"
   ]
  },
  {
   "cell_type": "code",
   "execution_count": null,
   "id": "dcbd6a31",
   "metadata": {},
   "outputs": [],
   "source": [
    "Ans: If a new line \\n is not preferred to use, then manually all strings should be written in a new lines or \n",
    "     by using loop functions"
   ]
  },
  {
   "cell_type": "code",
   "execution_count": null,
   "id": "14638feb",
   "metadata": {},
   "outputs": [],
   "source": []
  },
  {
   "cell_type": "code",
   "execution_count": null,
   "id": "a2929b9d",
   "metadata": {},
   "outputs": [],
   "source": [
    "6. What are the values of the given expressions?\n",
    "'Hello, world!'[1]\n",
    "'Hello, world!'[0:5]\n",
    "'Hello, world!'[:5]\n",
    "'Hello, world!'[3:]\n"
   ]
  },
  {
   "cell_type": "code",
   "execution_count": 3,
   "id": "992dc4e1",
   "metadata": {},
   "outputs": [
    {
     "data": {
      "text/plain": [
       "'e'"
      ]
     },
     "execution_count": 3,
     "metadata": {},
     "output_type": "execute_result"
    }
   ],
   "source": [
    "'Hello, world!'[1] # values of Index 1 of the string is e"
   ]
  },
  {
   "cell_type": "code",
   "execution_count": 4,
   "id": "e3369a80",
   "metadata": {},
   "outputs": [
    {
     "data": {
      "text/plain": [
       "'Hello'"
      ]
     },
     "execution_count": 4,
     "metadata": {},
     "output_type": "execute_result"
    }
   ],
   "source": [
    "'Hello, world!'[0:5] # values of index  0 to 5 is Hello"
   ]
  },
  {
   "cell_type": "code",
   "execution_count": 5,
   "id": "d962f2a6",
   "metadata": {},
   "outputs": [
    {
     "data": {
      "text/plain": [
       "'Hello'"
      ]
     },
     "execution_count": 5,
     "metadata": {},
     "output_type": "execute_result"
    }
   ],
   "source": [
    "'Hello, world!'[:5]"
   ]
  },
  {
   "cell_type": "code",
   "execution_count": 6,
   "id": "7c9e9447",
   "metadata": {},
   "outputs": [
    {
     "data": {
      "text/plain": [
       "'lo, world!'"
      ]
     },
     "execution_count": 6,
     "metadata": {},
     "output_type": "execute_result"
    }
   ],
   "source": [
    "'Hello, world!'[3:] # values of index after 3"
   ]
  },
  {
   "cell_type": "code",
   "execution_count": null,
   "id": "a01abdff",
   "metadata": {},
   "outputs": [],
   "source": []
  },
  {
   "cell_type": "code",
   "execution_count": null,
   "id": "2b0689ec",
   "metadata": {},
   "outputs": [],
   "source": [
    "7. What are the values of the following expressions?\n",
    "'Hello'.upper()\n",
    "'Hello'.upper().isupper()\n",
    "'Hello'.upper().lower()\n"
   ]
  },
  {
   "cell_type": "code",
   "execution_count": 7,
   "id": "a3ccbb92",
   "metadata": {},
   "outputs": [
    {
     "data": {
      "text/plain": [
       "'HELLO'"
      ]
     },
     "execution_count": 7,
     "metadata": {},
     "output_type": "execute_result"
    }
   ],
   "source": [
    "'Hello'.upper() # Turns the string to Upper case"
   ]
  },
  {
   "cell_type": "code",
   "execution_count": 11,
   "id": "dd61a0af",
   "metadata": {},
   "outputs": [
    {
     "data": {
      "text/plain": [
       "True"
      ]
     },
     "execution_count": 11,
     "metadata": {},
     "output_type": "execute_result"
    }
   ],
   "source": [
    "'Hello'.upper().isupper() # Validates the string if it is upper after turning to upper case"
   ]
  },
  {
   "cell_type": "code",
   "execution_count": 13,
   "id": "401e5001",
   "metadata": {},
   "outputs": [
    {
     "data": {
      "text/plain": [
       "'hello'"
      ]
     },
     "execution_count": 13,
     "metadata": {},
     "output_type": "execute_result"
    }
   ],
   "source": [
    "'Hello'.upper().lower()# Turns the string to Upper case and then to lower case"
   ]
  },
  {
   "cell_type": "code",
   "execution_count": null,
   "id": "b94c2911",
   "metadata": {},
   "outputs": [],
   "source": []
  },
  {
   "cell_type": "code",
   "execution_count": null,
   "id": "e8cef69b",
   "metadata": {},
   "outputs": [],
   "source": [
    "8. What are the values of the following expressions?\n",
    "'Remember, remember, the fifth of July.'.split()\n",
    "'-'.join('There can only one.'.split())\n"
   ]
  },
  {
   "cell_type": "code",
   "execution_count": 35,
   "id": "8ab7f6e5",
   "metadata": {},
   "outputs": [],
   "source": [
    "s = 'Remember, remember, the fifth of July.'.split(),'-'.join('There can only one.'.split())"
   ]
  },
  {
   "cell_type": "code",
   "execution_count": 36,
   "id": "a5e0bf9f",
   "metadata": {},
   "outputs": [
    {
     "name": "stdout",
     "output_type": "stream",
     "text": [
      "(['Remember,', 'remember,', 'the', 'fifth', 'of', 'July.'], 'There-can-only-one.')\n"
     ]
    }
   ],
   "source": [
    "print(s)"
   ]
  },
  {
   "cell_type": "code",
   "execution_count": null,
   "id": "6cd183c9",
   "metadata": {},
   "outputs": [],
   "source": []
  },
  {
   "cell_type": "code",
   "execution_count": null,
   "id": "f934dcfb",
   "metadata": {},
   "outputs": [],
   "source": [
    "9. What are the methods for right-justifying, left-justifying, and centering a string?"
   ]
  },
  {
   "cell_type": "code",
   "execution_count": 48,
   "id": "4c32fbe5",
   "metadata": {},
   "outputs": [],
   "source": [
    "sts = \"This is an example sentense\""
   ]
  },
  {
   "cell_type": "code",
   "execution_count": 58,
   "id": "c422e0b9",
   "metadata": {},
   "outputs": [
    {
     "name": "stdout",
     "output_type": "stream",
     "text": [
      "This is an example sentense-------------\n"
     ]
    }
   ],
   "source": [
    "print(sts.ljust(40,'-'))"
   ]
  },
  {
   "cell_type": "code",
   "execution_count": 59,
   "id": "56fee7a7",
   "metadata": {},
   "outputs": [
    {
     "name": "stdout",
     "output_type": "stream",
     "text": [
      "#######################This is an example sentense\n"
     ]
    }
   ],
   "source": [
    "print(sts.rjust(50,'#'))"
   ]
  },
  {
   "cell_type": "code",
   "execution_count": 60,
   "id": "bcb7a6a0",
   "metadata": {},
   "outputs": [
    {
     "name": "stdout",
     "output_type": "stream",
     "text": [
      "---------------------This is an example sentense----------------------\n"
     ]
    }
   ],
   "source": [
    "print(sts.center(70,'-'))"
   ]
  },
  {
   "cell_type": "code",
   "execution_count": null,
   "id": "779b8079",
   "metadata": {},
   "outputs": [],
   "source": []
  },
  {
   "cell_type": "code",
   "execution_count": null,
   "id": "26fabbaf",
   "metadata": {},
   "outputs": [],
   "source": [
    "10. What is the best way to remove whitespace characters from the start or end?"
   ]
  },
  {
   "cell_type": "code",
   "execution_count": null,
   "id": "eea0f362",
   "metadata": {},
   "outputs": [],
   "source": [
    "Ans: "
   ]
  },
  {
   "cell_type": "code",
   "execution_count": 61,
   "id": "4dfee505",
   "metadata": {},
   "outputs": [],
   "source": [
    "p = \" Hello World  \" # Provided white spaces before and after string "
   ]
  },
  {
   "cell_type": "code",
   "execution_count": 62,
   "id": "6eb78bad",
   "metadata": {},
   "outputs": [
    {
     "data": {
      "text/plain": [
       "'Hello World'"
      ]
     },
     "execution_count": 62,
     "metadata": {},
     "output_type": "execute_result"
    }
   ],
   "source": [
    "p.strip()            # .strip() function will remove the white spaces beginning & end of string"
   ]
  },
  {
   "cell_type": "code",
   "execution_count": null,
   "id": "0ed1d196",
   "metadata": {},
   "outputs": [],
   "source": []
  }
 ],
 "metadata": {
  "kernelspec": {
   "display_name": "Python 3 (ipykernel)",
   "language": "python",
   "name": "python3"
  },
  "language_info": {
   "codemirror_mode": {
    "name": "ipython",
    "version": 3
   },
   "file_extension": ".py",
   "mimetype": "text/x-python",
   "name": "python",
   "nbconvert_exporter": "python",
   "pygments_lexer": "ipython3",
   "version": "3.9.7"
  }
 },
 "nbformat": 4,
 "nbformat_minor": 5
}
