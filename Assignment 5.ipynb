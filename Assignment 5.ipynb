{
 "cells": [
  {
   "cell_type": "code",
   "execution_count": null,
   "id": "39350e7a",
   "metadata": {},
   "outputs": [],
   "source": [
    "Q1 What does an empty dictionary's code look like?"
   ]
  },
  {
   "cell_type": "code",
   "execution_count": null,
   "id": "54454586",
   "metadata": {},
   "outputs": [],
   "source": [
    "Ans: "
   ]
  },
  {
   "cell_type": "code",
   "execution_count": 4,
   "id": "6c66e775",
   "metadata": {},
   "outputs": [
    {
     "name": "stdout",
     "output_type": "stream",
     "text": [
      "{}\n"
     ]
    }
   ],
   "source": [
    "s = {}\n",
    "if type(s) == dict:\n",
    "    print(s)"
   ]
  },
  {
   "cell_type": "code",
   "execution_count": null,
   "id": "1c8b1ea6",
   "metadata": {},
   "outputs": [],
   "source": []
  },
  {
   "cell_type": "code",
   "execution_count": null,
   "id": "04551ec5",
   "metadata": {},
   "outputs": [],
   "source": [
    "Q2. What is the value of a dictionary value with the key 'foo' and the value 42?"
   ]
  },
  {
   "cell_type": "code",
   "execution_count": null,
   "id": "6ae39f3c",
   "metadata": {},
   "outputs": [],
   "source": [
    "Ans: {'foo':42}"
   ]
  },
  {
   "cell_type": "code",
   "execution_count": null,
   "id": "0530e516",
   "metadata": {},
   "outputs": [],
   "source": []
  },
  {
   "cell_type": "code",
   "execution_count": null,
   "id": "08d0cbe9",
   "metadata": {},
   "outputs": [],
   "source": [
    "3. What is the most significant distinction between a dictionary and a list?"
   ]
  },
  {
   "cell_type": "code",
   "execution_count": null,
   "id": "07fbad66",
   "metadata": {},
   "outputs": [],
   "source": [
    "Ans : \n",
    "    Dict - Dictionary is a key value pair in which a value is called with its key name.\n",
    "    List - List consists of various str & int content which are called with its index numbers."
   ]
  },
  {
   "cell_type": "code",
   "execution_count": null,
   "id": "775c9350",
   "metadata": {},
   "outputs": [],
   "source": []
  },
  {
   "cell_type": "code",
   "execution_count": null,
   "id": "82a5d914",
   "metadata": {},
   "outputs": [],
   "source": [
    "4. What happens if you try to access spam['foo'] if spam is {'bar': 100}?"
   ]
  },
  {
   "cell_type": "code",
   "execution_count": null,
   "id": "cecd2726",
   "metadata": {},
   "outputs": [],
   "source": [
    "Ans: \n",
    "    If spam['foo'] is called from spam = {'bar':100} it shows key 'foo' undefined."
   ]
  },
  {
   "cell_type": "code",
   "execution_count": 1,
   "id": "46692a5c",
   "metadata": {},
   "outputs": [],
   "source": [
    "spam = {'bar':100}"
   ]
  },
  {
   "cell_type": "code",
   "execution_count": 2,
   "id": "e1bc763b",
   "metadata": {},
   "outputs": [
    {
     "ename": "KeyError",
     "evalue": "'foo'",
     "output_type": "error",
     "traceback": [
      "\u001b[1;31m---------------------------------------------------------------------------\u001b[0m",
      "\u001b[1;31mKeyError\u001b[0m                                  Traceback (most recent call last)",
      "\u001b[1;32m~\\AppData\\Local\\Temp/ipykernel_5448/3999281786.py\u001b[0m in \u001b[0;36m<module>\u001b[1;34m\u001b[0m\n\u001b[1;32m----> 1\u001b[1;33m \u001b[0mspam\u001b[0m\u001b[1;33m[\u001b[0m\u001b[1;34m'foo'\u001b[0m\u001b[1;33m]\u001b[0m\u001b[1;33m\u001b[0m\u001b[1;33m\u001b[0m\u001b[0m\n\u001b[0m",
      "\u001b[1;31mKeyError\u001b[0m: 'foo'"
     ]
    }
   ],
   "source": [
    "spam['foo']"
   ]
  },
  {
   "cell_type": "code",
   "execution_count": null,
   "id": "0ae78dcf",
   "metadata": {},
   "outputs": [],
   "source": []
  },
  {
   "cell_type": "code",
   "execution_count": null,
   "id": "421027e5",
   "metadata": {},
   "outputs": [],
   "source": [
    "5. If a dictionary is stored in spam, what is the difference between the expressions 'cat' in spam and 'cat' in spam.keys()?"
   ]
  },
  {
   "cell_type": "code",
   "execution_count": null,
   "id": "56bcd4b6",
   "metadata": {},
   "outputs": [],
   "source": [
    "Ans:"
   ]
  },
  {
   "cell_type": "code",
   "execution_count": 3,
   "id": "bdd49801",
   "metadata": {},
   "outputs": [
    {
     "data": {
      "text/plain": [
       "False"
      ]
     },
     "execution_count": 3,
     "metadata": {},
     "output_type": "execute_result"
    }
   ],
   "source": [
    "'cat' in spam     "
   ]
  },
  {
   "cell_type": "code",
   "execution_count": 4,
   "id": "d4db088a",
   "metadata": {},
   "outputs": [
    {
     "data": {
      "text/plain": [
       "False"
      ]
     },
     "execution_count": 4,
     "metadata": {},
     "output_type": "execute_result"
    }
   ],
   "source": [
    "'cat' in spam.keys()"
   ]
  },
  {
   "cell_type": "code",
   "execution_count": null,
   "id": "11ca0446",
   "metadata": {},
   "outputs": [],
   "source": [
    "Both the above expressions are same and default in expression searches for key and the spam.keys() also searches for key."
   ]
  },
  {
   "cell_type": "code",
   "execution_count": null,
   "id": "d3cf36ec",
   "metadata": {},
   "outputs": [],
   "source": []
  },
  {
   "cell_type": "code",
   "execution_count": null,
   "id": "f9698764",
   "metadata": {},
   "outputs": [],
   "source": [
    "6. If a dictionary is stored in spam, what is the difference between the expressions 'cat' in spam and 'cat' in spam.values()?"
   ]
  },
  {
   "cell_type": "code",
   "execution_count": null,
   "id": "25ce4933",
   "metadata": {},
   "outputs": [],
   "source": [
    "Ans:"
   ]
  },
  {
   "cell_type": "code",
   "execution_count": null,
   "id": "244ad226",
   "metadata": {},
   "outputs": [],
   "source": [
    "'cat' in spam- searches for keys and shows if its available or not "
   ]
  },
  {
   "cell_type": "code",
   "execution_count": null,
   "id": "a71f91b8",
   "metadata": {},
   "outputs": [],
   "source": [
    "'cat' in spam.values() - searches for the str in values."
   ]
  },
  {
   "cell_type": "code",
   "execution_count": null,
   "id": "ada0c7fd",
   "metadata": {},
   "outputs": [],
   "source": []
  },
  {
   "cell_type": "code",
   "execution_count": null,
   "id": "cb86b29f",
   "metadata": {},
   "outputs": [],
   "source": [
    "7. What is a shortcut for the following code?\n",
    "if 'color' not in spam:\n",
    "spam['color'] = 'black'"
   ]
  },
  {
   "cell_type": "code",
   "execution_count": null,
   "id": "78ae1a80",
   "metadata": {},
   "outputs": [],
   "source": [
    "Ans:"
   ]
  },
  {
   "cell_type": "code",
   "execution_count": 5,
   "id": "33182086",
   "metadata": {},
   "outputs": [
    {
     "data": {
      "text/plain": [
       "{'bar': 100}"
      ]
     },
     "execution_count": 5,
     "metadata": {},
     "output_type": "execute_result"
    }
   ],
   "source": [
    "spam"
   ]
  },
  {
   "cell_type": "code",
   "execution_count": 6,
   "id": "13ed5a0d",
   "metadata": {},
   "outputs": [
    {
     "data": {
      "text/plain": [
       "'black'"
      ]
     },
     "execution_count": 6,
     "metadata": {},
     "output_type": "execute_result"
    }
   ],
   "source": [
    "spam.setdefault('color','black')"
   ]
  },
  {
   "cell_type": "code",
   "execution_count": 7,
   "id": "88a2dd12",
   "metadata": {},
   "outputs": [
    {
     "data": {
      "text/plain": [
       "{'bar': 100, 'color': 'black'}"
      ]
     },
     "execution_count": 7,
     "metadata": {},
     "output_type": "execute_result"
    }
   ],
   "source": [
    "spam"
   ]
  },
  {
   "cell_type": "code",
   "execution_count": null,
   "id": "48070d86",
   "metadata": {},
   "outputs": [],
   "source": []
  },
  {
   "cell_type": "code",
   "execution_count": null,
   "id": "70fb17c5",
   "metadata": {},
   "outputs": [],
   "source": [
    "8. How do you \"pretty print\" dictionary values using which module and function?"
   ]
  },
  {
   "cell_type": "code",
   "execution_count": null,
   "id": "d963a661",
   "metadata": {},
   "outputs": [],
   "source": [
    " Ans: pretty print function works by calling pprint module and by pprint() or pp() function"
   ]
  },
  {
   "cell_type": "code",
   "execution_count": null,
   "id": "452c6fb5",
   "metadata": {},
   "outputs": [],
   "source": [
    "Ex: "
   ]
  },
  {
   "cell_type": "code",
   "execution_count": 13,
   "id": "4609d965",
   "metadata": {},
   "outputs": [],
   "source": [
    "s = [{'id': 1, 'name': 'Leanne Graham', 'username': 'Bret', 'email': 'Sincere@april.biz', 'address': {'street': 'Kulas Light', 'suite': 'Apt. 556', 'city': 'Gwenborough', 'zipcode': '92998-3874', 'geo': {'lat': '-37.3159', 'lng': '81.1496'}}, 'phone': '1-770-736-8031 x56442', 'website': 'hildegard.org', 'company': {'name': 'Romaguera-Crona', 'catchPhrase': 'Multi-layered client-server neural-net', 'bs': 'harness real-time e-markets'}}, {'id': 2, 'name': 'Ervin Howell', 'username': 'Antonette', 'email': 'Shanna@melissa.tv', 'address': {'street': 'Victor Plains', 'suite': 'Suite 879', 'city': 'Wisokyburgh', 'zipcode': '90566-7771', 'geo': {'lat': '-43.9509', 'lng': '-34.4618'}}, 'phone': '010-692-6593 x09125', 'website': 'anastasia.net', 'company': {'name': 'Deckow-Crist', 'catchPhrase': 'Proactive didactic contingency', 'bs': 'synergize scalable supply-chains'}}, {'id': 3, 'name': 'Clementine Bauch', 'username': 'Samantha', 'email': 'Nathan@yesenia.net', 'address': {'street': 'Douglas Extension', 'suite': 'Suite 847', 'city': 'McKenziehaven', 'zipcode': '59590-4157', 'geo': {'lat': '-68.6102', 'lng': '-47.0653'}}, 'phone': '1-463-123-4447', 'website': 'ramiro.info', 'company': {'name': 'Romaguera-Jacobson', 'catchPhrase': 'Face to face bifurcated interface', 'bs': 'e-enable strategic applications'}}, {'id': 4, 'name': 'Patricia Lebsack', 'username': 'Karianne', 'email': 'Julianne.OConner@kory.org', 'address': {'street': 'Hoeger Mall', 'suite': 'Apt. 692', 'city': 'South Elvis', 'zipcode': '53919-4257', 'geo': {'lat': '29.4572', 'lng': '-164.2990'}}, 'phone': '493-170-9623 x156', 'website': 'kale.biz', 'company': {'name': 'Robel-Corkery', 'catchPhrase': 'Multi-tiered zero tolerance productivity', 'bs': 'transition cutting-edge web services'}}, {'id': 5, 'name': 'Chelsey Dietrich', 'username': 'Kamren', 'email': 'Lucio_Hettinger@annie.ca', 'address': {'street': 'Skiles Walks', 'suite': 'Suite 351', 'city': 'Roscoeview', 'zipcode': '33263', 'geo': {'lat': '-31.8129', 'lng': '62.5342'}}, 'phone': '(254)954-1289', 'website': 'demarco.info', 'company': {'name': 'Keebler LLC', 'catchPhrase': 'User-centric fault-tolerant solution', 'bs': 'revolutionize end-to-end systems'}}, {'id': 6, 'name': 'Mrs. Dennis Schulist', 'username': 'Leopoldo_Corkery', 'email': 'Karley_Dach@jasper.info', 'address': {'street': 'Norberto Crossing', 'suite': 'Apt. 950', 'city': 'South Christy', 'zipcode': '23505-1337', 'geo': {'lat': '-71.4197', 'lng': '71.7478'}}, 'phone': '1-477-935-8478 x6430', 'website': 'ola.org', 'company': {'name': 'Considine-Lockman', 'catchPhrase': 'Synchronised bottom-line interface', 'bs': 'e-enable innovative applications'}}, {'id': 7, 'name': 'Kurtis Weissnat', 'username': 'Elwyn.Skiles', 'email': 'Telly.Hoeger@billy.biz', 'address': {'street': 'Rex Trail', 'suite': 'Suite 280', 'city': 'Howemouth', 'zipcode': '58804-1099', 'geo': {'lat': '24.8918', 'lng': '21.8984'}}, 'phone': '210.067.6132', 'website': 'elvis.io', 'company': {'name': 'Johns Group', 'catchPhrase': 'Configurable multimedia task-force', 'bs': 'generate enterprise e-tailers'}}, {'id': 8, 'name': 'Nicholas Runolfsdottir V', 'username': 'Maxime_Nienow', 'email': 'Sherwood@rosamond.me', 'address': {'street': 'Ellsworth Summit', 'suite': 'Suite 729', 'city': 'Aliyaview', 'zipcode': '45169', 'geo': {'lat': '-14.3990', 'lng': '-120.7677'}}, 'phone': '586.493.6943 x140', 'website': 'jacynthe.com', 'company': {'name': 'Abernathy Group', 'catchPhrase': 'Implemented secondary concept', 'bs': 'e-enable extensible e-tailers'}}, {'id': 9, 'name': 'Glenna Reichert', 'username': 'Delphine', 'email': 'Chaim_McDermott@dana.io', 'address': {'street': 'Dayna Park', 'suite': 'Suite 449', 'city': 'Bartholomebury', 'zipcode': '76495-3109', 'geo': {'lat': '24.6463', 'lng': '-168.8889'}}, 'phone': '(775)976-6794 x41206', 'website': 'conrad.com', 'company': {'name': 'Yost and Sons', 'catchPhrase': 'Switchable contextually-based project', 'bs': 'aggregate real-time technologies'}}, {'id': 10, 'name': 'Clementina DuBuque', 'username': 'Moriah.Stanton', 'email': 'Rey.Padberg@karina.biz', 'address': {'street': 'Kattie Turnpike', 'suite': 'Suite 198', 'city': 'Lebsackbury', 'zipcode': '31428-2261', 'geo': {'lat': '-38.2386', 'lng': '57.2232'}}, 'phone': '024-648-3804', 'website': 'ambrose.net', 'company': {'name': 'Hoeger LLC', 'catchPhrase': 'Centralized empowering task-force', 'bs': 'target end-to-end models'}}]\n"
   ]
  },
  {
   "cell_type": "code",
   "execution_count": 15,
   "id": "08824fb7",
   "metadata": {},
   "outputs": [
    {
     "name": "stdout",
     "output_type": "stream",
     "text": [
      "[{'address': {'city': 'Gwenborough',\n",
      "              'geo': {'lat': '-37.3159', 'lng': '81.1496'},\n",
      "              'street': 'Kulas Light',\n",
      "              'suite': 'Apt. 556',\n",
      "              'zipcode': '92998-3874'},\n",
      "  'company': {'bs': 'harness real-time e-markets',\n",
      "              'catchPhrase': 'Multi-layered client-server neural-net',\n",
      "              'name': 'Romaguera-Crona'},\n",
      "  'email': 'Sincere@april.biz',\n",
      "  'id': 1,\n",
      "  'name': 'Leanne Graham',\n",
      "  'phone': '1-770-736-8031 x56442',\n",
      "  'username': 'Bret',\n",
      "  'website': 'hildegard.org'},\n",
      " {'address': {'city': 'Wisokyburgh',\n",
      "              'geo': {'lat': '-43.9509', 'lng': '-34.4618'},\n",
      "              'street': 'Victor Plains',\n",
      "              'suite': 'Suite 879',\n",
      "              'zipcode': '90566-7771'},\n",
      "  'company': {'bs': 'synergize scalable supply-chains',\n",
      "              'catchPhrase': 'Proactive didactic contingency',\n",
      "              'name': 'Deckow-Crist'},\n",
      "  'email': 'Shanna@melissa.tv',\n",
      "  'id': 2,\n",
      "  'name': 'Ervin Howell',\n",
      "  'phone': '010-692-6593 x09125',\n",
      "  'username': 'Antonette',\n",
      "  'website': 'anastasia.net'},\n",
      " {'address': {'city': 'McKenziehaven',\n",
      "              'geo': {'lat': '-68.6102', 'lng': '-47.0653'},\n",
      "              'street': 'Douglas Extension',\n",
      "              'suite': 'Suite 847',\n",
      "              'zipcode': '59590-4157'},\n",
      "  'company': {'bs': 'e-enable strategic applications',\n",
      "              'catchPhrase': 'Face to face bifurcated interface',\n",
      "              'name': 'Romaguera-Jacobson'},\n",
      "  'email': 'Nathan@yesenia.net',\n",
      "  'id': 3,\n",
      "  'name': 'Clementine Bauch',\n",
      "  'phone': '1-463-123-4447',\n",
      "  'username': 'Samantha',\n",
      "  'website': 'ramiro.info'},\n",
      " {'address': {'city': 'South Elvis',\n",
      "              'geo': {'lat': '29.4572', 'lng': '-164.2990'},\n",
      "              'street': 'Hoeger Mall',\n",
      "              'suite': 'Apt. 692',\n",
      "              'zipcode': '53919-4257'},\n",
      "  'company': {'bs': 'transition cutting-edge web services',\n",
      "              'catchPhrase': 'Multi-tiered zero tolerance productivity',\n",
      "              'name': 'Robel-Corkery'},\n",
      "  'email': 'Julianne.OConner@kory.org',\n",
      "  'id': 4,\n",
      "  'name': 'Patricia Lebsack',\n",
      "  'phone': '493-170-9623 x156',\n",
      "  'username': 'Karianne',\n",
      "  'website': 'kale.biz'},\n",
      " {'address': {'city': 'Roscoeview',\n",
      "              'geo': {'lat': '-31.8129', 'lng': '62.5342'},\n",
      "              'street': 'Skiles Walks',\n",
      "              'suite': 'Suite 351',\n",
      "              'zipcode': '33263'},\n",
      "  'company': {'bs': 'revolutionize end-to-end systems',\n",
      "              'catchPhrase': 'User-centric fault-tolerant solution',\n",
      "              'name': 'Keebler LLC'},\n",
      "  'email': 'Lucio_Hettinger@annie.ca',\n",
      "  'id': 5,\n",
      "  'name': 'Chelsey Dietrich',\n",
      "  'phone': '(254)954-1289',\n",
      "  'username': 'Kamren',\n",
      "  'website': 'demarco.info'},\n",
      " {'address': {'city': 'South Christy',\n",
      "              'geo': {'lat': '-71.4197', 'lng': '71.7478'},\n",
      "              'street': 'Norberto Crossing',\n",
      "              'suite': 'Apt. 950',\n",
      "              'zipcode': '23505-1337'},\n",
      "  'company': {'bs': 'e-enable innovative applications',\n",
      "              'catchPhrase': 'Synchronised bottom-line interface',\n",
      "              'name': 'Considine-Lockman'},\n",
      "  'email': 'Karley_Dach@jasper.info',\n",
      "  'id': 6,\n",
      "  'name': 'Mrs. Dennis Schulist',\n",
      "  'phone': '1-477-935-8478 x6430',\n",
      "  'username': 'Leopoldo_Corkery',\n",
      "  'website': 'ola.org'},\n",
      " {'address': {'city': 'Howemouth',\n",
      "              'geo': {'lat': '24.8918', 'lng': '21.8984'},\n",
      "              'street': 'Rex Trail',\n",
      "              'suite': 'Suite 280',\n",
      "              'zipcode': '58804-1099'},\n",
      "  'company': {'bs': 'generate enterprise e-tailers',\n",
      "              'catchPhrase': 'Configurable multimedia task-force',\n",
      "              'name': 'Johns Group'},\n",
      "  'email': 'Telly.Hoeger@billy.biz',\n",
      "  'id': 7,\n",
      "  'name': 'Kurtis Weissnat',\n",
      "  'phone': '210.067.6132',\n",
      "  'username': 'Elwyn.Skiles',\n",
      "  'website': 'elvis.io'},\n",
      " {'address': {'city': 'Aliyaview',\n",
      "              'geo': {'lat': '-14.3990', 'lng': '-120.7677'},\n",
      "              'street': 'Ellsworth Summit',\n",
      "              'suite': 'Suite 729',\n",
      "              'zipcode': '45169'},\n",
      "  'company': {'bs': 'e-enable extensible e-tailers',\n",
      "              'catchPhrase': 'Implemented secondary concept',\n",
      "              'name': 'Abernathy Group'},\n",
      "  'email': 'Sherwood@rosamond.me',\n",
      "  'id': 8,\n",
      "  'name': 'Nicholas Runolfsdottir V',\n",
      "  'phone': '586.493.6943 x140',\n",
      "  'username': 'Maxime_Nienow',\n",
      "  'website': 'jacynthe.com'},\n",
      " {'address': {'city': 'Bartholomebury',\n",
      "              'geo': {'lat': '24.6463', 'lng': '-168.8889'},\n",
      "              'street': 'Dayna Park',\n",
      "              'suite': 'Suite 449',\n",
      "              'zipcode': '76495-3109'},\n",
      "  'company': {'bs': 'aggregate real-time technologies',\n",
      "              'catchPhrase': 'Switchable contextually-based project',\n",
      "              'name': 'Yost and Sons'},\n",
      "  'email': 'Chaim_McDermott@dana.io',\n",
      "  'id': 9,\n",
      "  'name': 'Glenna Reichert',\n",
      "  'phone': '(775)976-6794 x41206',\n",
      "  'username': 'Delphine',\n",
      "  'website': 'conrad.com'},\n",
      " {'address': {'city': 'Lebsackbury',\n",
      "              'geo': {'lat': '-38.2386', 'lng': '57.2232'},\n",
      "              'street': 'Kattie Turnpike',\n",
      "              'suite': 'Suite 198',\n",
      "              'zipcode': '31428-2261'},\n",
      "  'company': {'bs': 'target end-to-end models',\n",
      "              'catchPhrase': 'Centralized empowering task-force',\n",
      "              'name': 'Hoeger LLC'},\n",
      "  'email': 'Rey.Padberg@karina.biz',\n",
      "  'id': 10,\n",
      "  'name': 'Clementina DuBuque',\n",
      "  'phone': '024-648-3804',\n",
      "  'username': 'Moriah.Stanton',\n",
      "  'website': 'ambrose.net'}]\n"
     ]
    }
   ],
   "source": [
    "from pprint import pprint\n",
    "pprint(s)"
   ]
  },
  {
   "cell_type": "code",
   "execution_count": null,
   "id": "bbb5d09c",
   "metadata": {},
   "outputs": [],
   "source": []
  }
 ],
 "metadata": {
  "kernelspec": {
   "display_name": "Python 3 (ipykernel)",
   "language": "python",
   "name": "python3"
  },
  "language_info": {
   "codemirror_mode": {
    "name": "ipython",
    "version": 3
   },
   "file_extension": ".py",
   "mimetype": "text/x-python",
   "name": "python",
   "nbconvert_exporter": "python",
   "pygments_lexer": "ipython3",
   "version": "3.9.7"
  }
 },
 "nbformat": 4,
 "nbformat_minor": 5
}
