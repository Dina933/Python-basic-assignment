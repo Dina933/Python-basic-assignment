{
 "cells": [
  {
   "cell_type": "code",
   "execution_count": null,
   "id": "b8ca585a",
   "metadata": {},
   "outputs": [],
   "source": [
    "1. What exactly is []?"
   ]
  },
  {
   "cell_type": "code",
   "execution_count": null,
   "id": "d2ecda12",
   "metadata": {},
   "outputs": [],
   "source": [
    "Ans: The List is a datatype which has set of data, defined in squared brackets []."
   ]
  },
  {
   "cell_type": "code",
   "execution_count": null,
   "id": "9f40f567",
   "metadata": {},
   "outputs": [],
   "source": []
  },
  {
   "cell_type": "code",
   "execution_count": null,
   "id": "1f86b984",
   "metadata": {},
   "outputs": [],
   "source": [
    "2. In a list of values stored in a variable called spam, how would you assign the value 'hello' \n",
    "as the third value? (Assume [2, 4, 6, 8, 10] are in spam.)"
   ]
  },
  {
   "cell_type": "code",
   "execution_count": 3,
   "id": "0ec6dc86",
   "metadata": {},
   "outputs": [],
   "source": [
    "spam = [2,4,6,8,10]\n",
    "spam[2]='hello'\n"
   ]
  },
  {
   "cell_type": "code",
   "execution_count": 4,
   "id": "383d3381",
   "metadata": {},
   "outputs": [
    {
     "data": {
      "text/plain": [
       "[2, 4, 'hello', 8, 10]"
      ]
     },
     "execution_count": 4,
     "metadata": {},
     "output_type": "execute_result"
    }
   ],
   "source": [
    "spam"
   ]
  },
  {
   "cell_type": "code",
   "execution_count": null,
   "id": "1a579636",
   "metadata": {},
   "outputs": [],
   "source": []
  },
  {
   "cell_type": "code",
   "execution_count": 8,
   "id": "1f5c68d1",
   "metadata": {},
   "outputs": [],
   "source": [
    "spam = ['a','b','c','d']"
   ]
  },
  {
   "cell_type": "code",
   "execution_count": null,
   "id": "7151acc6",
   "metadata": {},
   "outputs": [],
   "source": [
    "3. What is the value of spam[int(int('3' * 2) / 11)]?"
   ]
  },
  {
   "cell_type": "code",
   "execution_count": null,
   "id": "441df92f",
   "metadata": {},
   "outputs": [],
   "source": [
    "Ans: "
   ]
  },
  {
   "cell_type": "code",
   "execution_count": 12,
   "id": "ee431ea5",
   "metadata": {},
   "outputs": [
    {
     "data": {
      "text/plain": [
       "'d'"
      ]
     },
     "execution_count": 12,
     "metadata": {},
     "output_type": "execute_result"
    }
   ],
   "source": [
    "spam[int(int('3' * 2) / 11)]"
   ]
  },
  {
   "cell_type": "code",
   "execution_count": null,
   "id": "a9119c3e",
   "metadata": {},
   "outputs": [],
   "source": []
  },
  {
   "cell_type": "code",
   "execution_count": null,
   "id": "cce7498d",
   "metadata": {},
   "outputs": [],
   "source": [
    "4. What is the value of spam[-1]?"
   ]
  },
  {
   "cell_type": "code",
   "execution_count": null,
   "id": "587d0f61",
   "metadata": {},
   "outputs": [],
   "source": [
    "Ans:"
   ]
  },
  {
   "cell_type": "code",
   "execution_count": 13,
   "id": "9a756e5b",
   "metadata": {},
   "outputs": [
    {
     "data": {
      "text/plain": [
       "'d'"
      ]
     },
     "execution_count": 13,
     "metadata": {},
     "output_type": "execute_result"
    }
   ],
   "source": [
    "spam[-1]"
   ]
  },
  {
   "cell_type": "code",
   "execution_count": null,
   "id": "b41950f7",
   "metadata": {},
   "outputs": [],
   "source": []
  },
  {
   "cell_type": "code",
   "execution_count": null,
   "id": "8bbcf5d8",
   "metadata": {},
   "outputs": [],
   "source": [
    "5. What is the value of spam[:2]?"
   ]
  },
  {
   "cell_type": "code",
   "execution_count": null,
   "id": "3a5ae292",
   "metadata": {},
   "outputs": [],
   "source": [
    "Ans:"
   ]
  },
  {
   "cell_type": "code",
   "execution_count": 14,
   "id": "2c8fd8cd",
   "metadata": {},
   "outputs": [
    {
     "data": {
      "text/plain": [
       "['a', 'c']"
      ]
     },
     "execution_count": 14,
     "metadata": {},
     "output_type": "execute_result"
    }
   ],
   "source": [
    "spam[::2]"
   ]
  },
  {
   "cell_type": "code",
   "execution_count": null,
   "id": "ddedccc2",
   "metadata": {},
   "outputs": [],
   "source": []
  },
  {
   "cell_type": "code",
   "execution_count": 17,
   "id": "839bf830",
   "metadata": {},
   "outputs": [],
   "source": [
    "bacon = [3.14, 'cat', 11, 'cat', True] "
   ]
  },
  {
   "cell_type": "code",
   "execution_count": null,
   "id": "4923ff12",
   "metadata": {},
   "outputs": [],
   "source": [
    "6. What is the value of bacon.index('cat')?"
   ]
  },
  {
   "cell_type": "code",
   "execution_count": null,
   "id": "352c82ef",
   "metadata": {},
   "outputs": [],
   "source": [
    "Ans:"
   ]
  },
  {
   "cell_type": "code",
   "execution_count": 18,
   "id": "b723ec9a",
   "metadata": {},
   "outputs": [
    {
     "data": {
      "text/plain": [
       "1"
      ]
     },
     "execution_count": 18,
     "metadata": {},
     "output_type": "execute_result"
    }
   ],
   "source": [
    "bacon.index('cat')"
   ]
  },
  {
   "cell_type": "code",
   "execution_count": null,
   "id": "ee611a76",
   "metadata": {},
   "outputs": [],
   "source": []
  },
  {
   "cell_type": "code",
   "execution_count": null,
   "id": "ae29d3cf",
   "metadata": {},
   "outputs": [],
   "source": [
    "7. How does bacon.append(99) change the look of the list value in bacon?"
   ]
  },
  {
   "cell_type": "code",
   "execution_count": null,
   "id": "7be8e336",
   "metadata": {},
   "outputs": [],
   "source": [
    "Ans:"
   ]
  },
  {
   "cell_type": "code",
   "execution_count": 19,
   "id": "1f49b3d7",
   "metadata": {},
   "outputs": [],
   "source": [
    "bacon.append(99)"
   ]
  },
  {
   "cell_type": "code",
   "execution_count": 20,
   "id": "f694d66e",
   "metadata": {},
   "outputs": [
    {
     "data": {
      "text/plain": [
       "[3.14, 'cat', 11, 'cat', True, 99]"
      ]
     },
     "execution_count": 20,
     "metadata": {},
     "output_type": "execute_result"
    }
   ],
   "source": [
    "bacon"
   ]
  },
  {
   "cell_type": "code",
   "execution_count": null,
   "id": "84962415",
   "metadata": {},
   "outputs": [],
   "source": []
  },
  {
   "cell_type": "code",
   "execution_count": null,
   "id": "e8873864",
   "metadata": {},
   "outputs": [],
   "source": [
    "8. How does bacon.remove('cat') change the look of the list in bacon?"
   ]
  },
  {
   "cell_type": "code",
   "execution_count": null,
   "id": "72eedeb6",
   "metadata": {},
   "outputs": [],
   "source": [
    "Ans:"
   ]
  },
  {
   "cell_type": "code",
   "execution_count": 21,
   "id": "dad21181",
   "metadata": {},
   "outputs": [],
   "source": [
    "bacon.remove('cat')"
   ]
  },
  {
   "cell_type": "code",
   "execution_count": 22,
   "id": "a5122002",
   "metadata": {},
   "outputs": [
    {
     "data": {
      "text/plain": [
       "[3.14, 11, 'cat', True, 99]"
      ]
     },
     "execution_count": 22,
     "metadata": {},
     "output_type": "execute_result"
    }
   ],
   "source": [
    "bacon"
   ]
  },
  {
   "cell_type": "code",
   "execution_count": null,
   "id": "f9d6811a",
   "metadata": {},
   "outputs": [],
   "source": []
  },
  {
   "cell_type": "code",
   "execution_count": null,
   "id": "f7385620",
   "metadata": {},
   "outputs": [],
   "source": [
    "9. What are the list concatenation and list replication operators?"
   ]
  },
  {
   "cell_type": "code",
   "execution_count": null,
   "id": "146beed2",
   "metadata": {},
   "outputs": [],
   "source": [
    "Ans: + is the operator for list concatenation.\n",
    "     * is the operator for list replication.\n",
    "these operators functions similar to strings."
   ]
  },
  {
   "cell_type": "code",
   "execution_count": null,
   "id": "13264723",
   "metadata": {},
   "outputs": [],
   "source": []
  },
  {
   "cell_type": "code",
   "execution_count": null,
   "id": "67c6b6b7",
   "metadata": {},
   "outputs": [],
   "source": [
    "10. What is difference between the list methods append() and insert()?"
   ]
  },
  {
   "cell_type": "code",
   "execution_count": null,
   "id": "135b5b6a",
   "metadata": {},
   "outputs": [],
   "source": [
    "Ans:\n",
    "    append() - adds the value at the end of the list.\n",
    "    insert() - adds the value at the indexed position of list."
   ]
  },
  {
   "cell_type": "code",
   "execution_count": null,
   "id": "5678791c",
   "metadata": {},
   "outputs": [],
   "source": []
  },
  {
   "cell_type": "code",
   "execution_count": null,
   "id": "68427f5c",
   "metadata": {},
   "outputs": [],
   "source": [
    "11. What are the two methods for removing items from a list?"
   ]
  },
  {
   "cell_type": "code",
   "execution_count": null,
   "id": "f84c7ade",
   "metadata": {},
   "outputs": [],
   "source": [
    "Ans:\n",
    "    pop()- removes the value at the end of list.\n",
    "    remove() - removes the value mentioned from the list.\n",
    "    del - will delete the entire list and its defined variable "
   ]
  },
  {
   "cell_type": "code",
   "execution_count": null,
   "id": "4120bb6c",
   "metadata": {},
   "outputs": [],
   "source": []
  },
  {
   "cell_type": "code",
   "execution_count": null,
   "id": "6b09d726",
   "metadata": {},
   "outputs": [],
   "source": [
    "13. What is the difference between tuples and lists?"
   ]
  },
  {
   "cell_type": "code",
   "execution_count": null,
   "id": "0bc03788",
   "metadata": {},
   "outputs": [],
   "source": [
    "Ans:\n",
    "    Tuples: Tuples are immutable, indexed values which are enclosed in ().\n",
    "    List: Lists are mutable, indexed values which are enclosed in [].\n",
    "The only difference between them is tuple values cannot be replaced or added with any value while List can."
   ]
  },
  {
   "cell_type": "code",
   "execution_count": null,
   "id": "6e60ef94",
   "metadata": {},
   "outputs": [],
   "source": []
  },
  {
   "cell_type": "code",
   "execution_count": null,
   "id": "6789c6f9",
   "metadata": {},
   "outputs": [],
   "source": [
    "14. How do you type a tuple value that only contains the integer 42?"
   ]
  },
  {
   "cell_type": "code",
   "execution_count": null,
   "id": "fc670e18",
   "metadata": {},
   "outputs": [],
   "source": [
    "Ans:"
   ]
  },
  {
   "cell_type": "code",
   "execution_count": 24,
   "id": "655b5d98",
   "metadata": {},
   "outputs": [],
   "source": [
    "tuple1 = (42) "
   ]
  },
  {
   "cell_type": "code",
   "execution_count": 25,
   "id": "9ba35149",
   "metadata": {},
   "outputs": [
    {
     "data": {
      "text/plain": [
       "42"
      ]
     },
     "execution_count": 25,
     "metadata": {},
     "output_type": "execute_result"
    }
   ],
   "source": [
    "tuple1"
   ]
  },
  {
   "cell_type": "code",
   "execution_count": null,
   "id": "da049082",
   "metadata": {},
   "outputs": [],
   "source": []
  },
  {
   "cell_type": "code",
   "execution_count": null,
   "id": "898feb71",
   "metadata": {},
   "outputs": [],
   "source": [
    "15. How do you get a list values tuple form? How do you get a tuple values list form?"
   ]
  },
  {
   "cell_type": "code",
   "execution_count": null,
   "id": "a68f7a15",
   "metadata": {},
   "outputs": [],
   "source": [
    "Ans: Lets take "
   ]
  },
  {
   "cell_type": "code",
   "execution_count": 28,
   "id": "908e69f5",
   "metadata": {},
   "outputs": [],
   "source": [
    "#considering a list example\n",
    "List2 = [2,4,7,3,8] "
   ]
  },
  {
   "cell_type": "code",
   "execution_count": 31,
   "id": "ff4be6b4",
   "metadata": {},
   "outputs": [],
   "source": [
    "#converting a list to tuple form\n",
    "tup = tuple(List2)"
   ]
  },
  {
   "cell_type": "code",
   "execution_count": 33,
   "id": "1a7dedaf",
   "metadata": {},
   "outputs": [
    {
     "data": {
      "text/plain": [
       "(2, 4, 7, 3, 8)"
      ]
     },
     "execution_count": 33,
     "metadata": {},
     "output_type": "execute_result"
    }
   ],
   "source": [
    "#Converted to tuple\n",
    "tup"
   ]
  },
  {
   "cell_type": "code",
   "execution_count": 34,
   "id": "de321054",
   "metadata": {},
   "outputs": [],
   "source": [
    "#similarlly, lets take a new tuple example  \n",
    "tup5 = (\"Hello\",35,\"world\",98,64)"
   ]
  },
  {
   "cell_type": "code",
   "execution_count": 35,
   "id": "2a5feacc",
   "metadata": {},
   "outputs": [],
   "source": [
    "list3 = list(tup5)"
   ]
  },
  {
   "cell_type": "code",
   "execution_count": 37,
   "id": "87480008",
   "metadata": {},
   "outputs": [
    {
     "data": {
      "text/plain": [
       "['Hello', 35, 'world', 98, 64]"
      ]
     },
     "execution_count": 37,
     "metadata": {},
     "output_type": "execute_result"
    }
   ],
   "source": [
    "#Converted to list from tuple\n",
    "list3"
   ]
  },
  {
   "cell_type": "code",
   "execution_count": null,
   "id": "f66f58dd",
   "metadata": {},
   "outputs": [],
   "source": []
  },
  {
   "cell_type": "code",
   "execution_count": null,
   "id": "3c2b067b",
   "metadata": {},
   "outputs": [],
   "source": [
    "16. Variables that \"contain\" list values are not necessarily lists themselves. Instead, what do they contain?"
   ]
  },
  {
   "cell_type": "code",
   "execution_count": null,
   "id": "8ec0c7e8",
   "metadata": {},
   "outputs": [],
   "source": [
    "Ans: variables containing list values will actually have the 'references' of list as they are mutable. \n",
    "     For any immutable data like string, integer, the variable itself contains the values."
   ]
  },
  {
   "cell_type": "code",
   "execution_count": null,
   "id": "7b6ebbaa",
   "metadata": {},
   "outputs": [],
   "source": []
  },
  {
   "cell_type": "code",
   "execution_count": null,
   "id": "6a32491e",
   "metadata": {},
   "outputs": [],
   "source": [
    "17. How do you distinguish between copy.copy() and copy.deepcopy()?"
   ]
  },
  {
   "cell_type": "code",
   "execution_count": null,
   "id": "9bc70253",
   "metadata": {},
   "outputs": [],
   "source": [
    "Ans: copy.copy() is a shallow copy used to copy the object but refers to the values in the original object.\n",
    "     copy.deepcopy() is used to copy a new object and it copies the  values to itself from original object."
   ]
  },
  {
   "cell_type": "code",
   "execution_count": null,
   "id": "f7123da5",
   "metadata": {},
   "outputs": [],
   "source": []
  }
 ],
 "metadata": {
  "kernelspec": {
   "display_name": "Python 3 (ipykernel)",
   "language": "python",
   "name": "python3"
  },
  "language_info": {
   "codemirror_mode": {
    "name": "ipython",
    "version": 3
   },
   "file_extension": ".py",
   "mimetype": "text/x-python",
   "name": "python",
   "nbconvert_exporter": "python",
   "pygments_lexer": "ipython3",
   "version": "3.9.7"
  }
 },
 "nbformat": 4,
 "nbformat_minor": 5
}
